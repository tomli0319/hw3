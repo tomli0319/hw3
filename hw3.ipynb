{
 "cells": [
  {
   "cell_type": "markdown",
   "metadata": {
    "id": "IcJ2bbjQ8PIN"
   },
   "source": [
    "# MAE6292 - Homework \\# 3\n",
    "\n",
    "Calibration with DLT and 3D scene construction"
   ]
  },
  {
   "cell_type": "markdown",
   "metadata": {
    "id": "LvmSursi-GdP"
   },
   "source": [
    "## Import Modules\n",
    "\n"
   ]
  },
  {
   "cell_type": "code",
   "execution_count": null,
   "metadata": {
    "executionInfo": {
     "elapsed": 1047,
     "status": "ok",
     "timestamp": 1611068350100,
     "user": {
      "displayName": "Taeyoung Lee",
      "photoUrl": "",
      "userId": "07906618747313337531"
     },
     "user_tz": 300
    },
    "id": "o3eOxpLx7zs2"
   },
   "outputs": [],
   "source": [
    "import numpy as np\n",
    "import matplotlib.pyplot as plt\n",
    "import scipy.linalg as linalg\n",
    "import cv2"
   ]
  },
  {
   "cell_type": "markdown",
   "metadata": {
    "id": "hu-p0fRiQTqL"
   },
   "source": [
    "## Jupyter Notebook / VSCode\n",
    "\n",
    "It turns out that `cv2.imshow()` does not work in Jupter Notebook as well. You may use the follwing function `cv2_imshow` instead. \n",
    "\n",
    "Also, we are importing tools developed in class as `mae6292` module."
   ]
  },
  {
   "cell_type": "code",
   "execution_count": null,
   "metadata": {
    "executionInfo": {
     "elapsed": 45720,
     "status": "ok",
     "timestamp": 1611068394796,
     "user": {
      "displayName": "Taeyoung Lee",
      "photoUrl": "",
      "userId": "07906618747313337531"
     },
     "user_tz": 300
    },
    "id": "bg_xC1p_QTqL"
   },
   "outputs": [],
   "source": [
    "from mae6292.imshow import cv2_imshow\n",
    "import mae6292.tools as mae6292"
   ]
  },
  {
   "cell_type": "markdown",
   "metadata": {
    "id": "BTBIK24gARwZ"
   },
   "source": [
    "## Getting Data From HW#2\n",
    "\n",
    "In HW#2, we made a virtual cube on the photo image as follows.\n",
    "\n",
    "![](./img_cube.png)\n",
    "\n",
    "First, we have to load several variables from HW#2. \n",
    "\n",
    "1. Append your HW2 with the following code to create a data file, `HW2.npz` that containts the listed variables. \n",
    "\n",
    "`np.savez('HW2.npz', P = vertices, p = M@vertices, K_cv = K, R_cv = R, T_cv = T, M_cv=M)`\n",
    "\n",
    "2. Copy the data file `HW2.npz` to the current folder of HW3.\n",
    "\n",
    "3. Excute the following code to load variables from the data file. "
   ]
  },
  {
   "cell_type": "code",
   "execution_count": null,
   "metadata": {},
   "outputs": [],
   "source": [
    "np.set_printoptions(precision=5)\n",
    "\n",
    "with np.load('HW2.npz') as data:\n",
    "    P = data['P']\n",
    "    p = data['p']\n",
    "    K_cv = data['K_cv']\n",
    "    R_cv = data['R_cv']\n",
    "    T_cv = data['T_cv']\n",
    "    M_cv = data['M_cv']\n",
    "    \n",
    "print('K_cv = ',K_cv)\n",
    "print('R_cv = ',R_cv)\n",
    "print('T_cv = ',T_cv)\n",
    "print('M_cv = ',M_cv)"
   ]
  },
  {
   "cell_type": "markdown",
   "metadata": {},
   "source": [
    "## Problem 1 (DLT)\n",
    "\n",
    "In this part, \n",
    "\n",
    "1. Using `K, R, T, M = mae6292.calibrateCamera_Tsai(p, P)` calibrate the camera according to Tsai's method.\n",
    "\n",
    "2. Print `K, R, T, M` and make it sure that they are consistent with the above values computed by OpenCV.\n",
    "\n",
    "3. Using [scipy.linalg.norm()](https://docs.scipy.org/doc/scipy/reference/generated/scipy.linalg.norm.html), compute $\\|K-K_{cv}\\|$, $\\|R-R_{cv}\\|$, $\\|T-T_{cv}\\|$, and $\\|M-M_{cv}\\|$, and print.\n"
   ]
  },
  {
   "cell_type": "code",
   "execution_count": null,
   "metadata": {},
   "outputs": [],
   "source": [
    "# 1. compute K, R, T, M\n",
    "\n",
    "\n",
    "# 2. print K, R, T, M\n",
    "\n",
    "\n",
    "# 3. compute and print errors"
   ]
  },
  {
   "cell_type": "markdown",
   "metadata": {},
   "source": [
    "## Problem 2 (3D Scene Construction)\n",
    "\n",
    "1. The following codes generate a wireframe camera at the pose `(R,T)` defined above. You may need to adjust the axis limits at the following lines. \n",
    "\n",
    "```\n",
    "ax.axes.set_xlim3d(left=-2, right=10)\n",
    "ax.axes.set_ylim3d(bottom=-2, top=6) \n",
    "ax.axes.set_zlim3d(bottom=0, top=-6)\n",
    "```\n",
    "\n",
    "2. Using the following command generate the checker board \n",
    "\n",
    "```\n",
    "cb = mae6292.ChessBoard( (CHECKER_ROW, CHECKER_COL), (x of upper-left corner, y of upper left corner) )``\n",
    "cb.draw(ax)\n",
    "```\n",
    "\n",
    "See the example in [https://github.com/GW-MAE6292/python_examples/tree/main/DLT](https://github.com/GW-MAE6292/python_examples/tree/main/DLT)\n",
    "\n",
    "3. In the above, the homogeneous coordinates of the vertices of the cube in the world frame are stored in the 4 by 8 np.array `P`. Convert it into the 3 by 8 np.array `P_W` of the world coordinates.\n",
    "\n",
    "\n",
    "4. Read [3D line plot in python](https://medium.com/@rohitadnaik/3d-line-plot-in-python-2fbeca99b9ba). \n",
    "\n",
    "For example, the following command generate a line from $(0,0,0)$ to $(0,0,-1)$.\n",
    "\n",
    "```\n",
    "ax.plot([0, 0], [0, 0], [0, -1],'r',linewidth=1)\n",
    "```\n",
    "Draw a 3D wire-frame cube using `P_W` and the above command.\n",
    "\n",
    "5. Save the image as `prob2.png` using\n",
    "\n",
    "```\n",
    "plt.savefig('prob2.png')\n",
    "```\n",
    "\n",
    "The end results should be similar as\n",
    "\n",
    "![](./prob2_example.png)"
   ]
  },
  {
   "cell_type": "code",
   "execution_count": null,
   "metadata": {},
   "outputs": [],
   "source": [
    "# uncomment the following line for interactive view of the image\n",
    "# %matplotlib notebook\n",
    "\n",
    "# 1. draw wire-frame camera\n",
    "camera = mae6292.WireFrameCamera()\n",
    "fig, ax = camera.draw(R,T)\n",
    "ax.axis('equal')\n",
    "ax.set_xlabel('x')\n",
    "ax.set_ylabel('y')\n",
    "ax.set_zlabel('z')\n",
    "ax.xaxis.pane.fill = False\n",
    "ax.yaxis.pane.fill = False\n",
    "ax.zaxis.pane.fill = False\n",
    "ax.xaxis.pane.set_edgecolor('w')\n",
    "ax.yaxis.pane.set_edgecolor('w')\n",
    "ax.zaxis.pane.set_edgecolor('w')\n",
    "ax.grid(False)\n",
    "#  change the axis limit if needed\n",
    "ax.axes.set_xlim3d(left=-2, right=10)\n",
    "ax.axes.set_ylim3d(bottom=6, top=-2) \n",
    "ax.axes.set_zlim3d(bottom=0, top=-6) \n",
    "\n",
    "# 2. draw chess board\n",
    "\n",
    "# 3. convert the homogeneous coordinates P into \n",
    "\n",
    "# 4. draw wire cube\n",
    "\n",
    "# 5. save \n",
    "\n",
    "plt.savefig('prob2.png')\n"
   ]
  },
  {
   "cell_type": "markdown",
   "metadata": {},
   "source": [
    "## How to Turn in\n",
    "\n",
    "Make it sure you add the following files to the repository before pusing it back to github.\n",
    "1. prob2.png\n"
   ]
  },
  {
   "cell_type": "code",
   "execution_count": null,
   "metadata": {},
   "outputs": [],
   "source": []
  }
 ],
 "metadata": {
  "colab": {
   "collapsed_sections": [],
   "name": "hw2_sol.ipynb",
   "provenance": []
  },
  "kernelspec": {
   "display_name": "Python 3",
   "language": "python",
   "name": "python3"
  },
  "language_info": {
   "codemirror_mode": {
    "name": "ipython",
    "version": 3
   },
   "file_extension": ".py",
   "mimetype": "text/x-python",
   "name": "python",
   "nbconvert_exporter": "python",
   "pygments_lexer": "ipython3",
   "version": "3.8.3"
  }
 },
 "nbformat": 4,
 "nbformat_minor": 1
}
